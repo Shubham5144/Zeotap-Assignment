{
 "cells": [
  {
   "cell_type": "markdown",
   "id": "063d4416-a82c-4f89-badf-bb8e9c6c423f",
   "metadata": {},
   "source": [
    "#### *Task 2: Lookalike Model*"
   ]
  },
  {
   "cell_type": "code",
   "execution_count": 2,
   "id": "ec3fd1f4-78e8-4c0d-b42a-77805b178473",
   "metadata": {},
   "outputs": [],
   "source": [
    "# Importing Libraries\n",
    "\n",
    "import pandas as pd\n",
    "import numpy as np\n",
    "from sklearn.metrics.pairwise import cosine_similarity\n",
    "from sklearn.feature_extraction.text import TfidfVectorizer"
   ]
  },
  {
   "cell_type": "code",
   "execution_count": 3,
   "id": "4bb975b2-a535-4e49-a8fc-91cf90736673",
   "metadata": {},
   "outputs": [],
   "source": [
    "# Load datasets\n",
    "\n",
    "customers = pd.read_csv(\"C:/Users/SHUBHAM/Downloads/Customers.csv\")\n",
    "products = pd.read_csv(\"C:/Users/SHUBHAM/Downloads/Products.csv\")\n",
    "transactions = pd.read_csv(\"C:/Users/SHUBHAM/Downloads/Transactions.csv\")"
   ]
  },
  {
   "cell_type": "code",
   "execution_count": 4,
   "id": "0317d0b2-bd4f-4053-b717-3585b36112ea",
   "metadata": {},
   "outputs": [],
   "source": [
    "# Merge datasets for comprehensive analysis\n",
    "\n",
    "merged_data = transactions.merge(customers, on=\"CustomerID\").merge(products, on=\"ProductID\")"
   ]
  },
  {
   "cell_type": "code",
   "execution_count": 5,
   "id": "f292972c-071a-4e71-b6d5-e9db51acee9c",
   "metadata": {},
   "outputs": [],
   "source": [
    "# Feature Engineering\n",
    "# Aggregate transaction data for each customer\n",
    "\n",
    "customer_profiles = merged_data.groupby('CustomerID').agg({\n",
    "    'Region': 'first',\n",
    "    'Category': lambda x: ' '.join(x),  # Combine purchased product categories\n",
    "    'TotalValue': 'sum',               # Total spending\n",
    "    'Quantity': 'sum'                  # Total quantity purchased\n",
    "}).reset_index()"
   ]
  },
  {
   "cell_type": "code",
   "execution_count": 6,
   "id": "77b653bc-8c15-482b-81c2-0d6c77f520c3",
   "metadata": {},
   "outputs": [],
   "source": [
    "# Combine text-based features\n",
    "\n",
    "customer_profiles['ProfileText'] = customer_profiles['Region'] + ' ' + customer_profiles['Category']"
   ]
  },
  {
   "cell_type": "code",
   "execution_count": 7,
   "id": "36e79cf9-d7cf-4b8c-88d5-a628b26a92cb",
   "metadata": {},
   "outputs": [],
   "source": [
    "tfidf = TfidfVectorizer()\n",
    "profile_vectors = tfidf.fit_transform(customer_profiles['ProfileText'])"
   ]
  },
  {
   "cell_type": "code",
   "execution_count": 8,
   "id": "5ca47c81-7112-499b-b5b3-c5db699833b4",
   "metadata": {},
   "outputs": [],
   "source": [
    "# Compute similarity matrix\n",
    "\n",
    "similarity_matrix = cosine_similarity(profile_vectors)"
   ]
  },
  {
   "cell_type": "code",
   "execution_count": 9,
   "id": "1b3fb7dd-56c0-4840-b053-108edaee2eeb",
   "metadata": {},
   "outputs": [],
   "source": [
    "# Find top 3 lookalike customers for each of the first 20 customers\n",
    "\n",
    "# Dictionary to store lookalike results for each customer\n",
    "lookalike_map = {}\n",
    "\n",
    "for i in range(20):  # For CustomerID: C0001 to C0020\n",
    "    customer_id = customer_profiles.iloc[i]['CustomerID']  # Get the CustomerID of the current customer\n",
    "    similarity_scores = list(enumerate(similarity_matrix[i])) # Get similarity scores for the current customer\n",
    "\n",
    "\n",
    "    # Exclude the customer itself and sort other customers by similarity score in descending order\n",
    "    similarity_scores = sorted(\n",
    "        [(customer_profiles.iloc[j]['CustomerID'], score) for j, score in similarity_scores if j != i],\n",
    "        key=lambda x: x[1], # Sort by the similarity score\n",
    "        reverse=True # Descending order\n",
    "    )\n",
    "\n",
    "    # Store the top 3 most similar customers and their similarity scores in the dictionary\n",
    "    lookalike_map[customer_id] = similarity_scores[:3]  # Top 3 lookalikes\n"
   ]
  },
  {
   "cell_type": "code",
   "execution_count": 10,
   "id": "b3ba15a8-3219-4a35-9cff-a8b215d8f6d9",
   "metadata": {},
   "outputs": [
    {
     "name": "stdout",
     "output_type": "stream",
     "text": [
      "Lookalike Model Completed. Results saved to Lookalike.csv.\n"
     ]
    }
   ],
   "source": [
    "# Save lookalike results to CSV\n",
    "\n",
    "# List to store rows for the CSV\n",
    "lookalike_data = []\n",
    "for cust_id, lookalikes in lookalike_map.items(): # Loop through each customer and their lookalikes\n",
    "    lookalike_data.append({\n",
    "        'CustomerID': cust_id, # Current customer ID\n",
    "\n",
    "         # List of tuples (lookalike customer ID, similarity score) rounded to 4 decimal places\n",
    "        'Lookalikes': [(l_id, round(score, 4)) for l_id, score in lookalikes]\n",
    "    })\n",
    "\n",
    "# Convert the lookalike data to a DataFrame\n",
    "lookalike_df = pd.DataFrame(lookalike_data)\n",
    "\n",
    "# Save the DataFrame to a CSV file named 'Lookalike.csv'\n",
    "lookalike_df.to_csv('Lookalike.csv', index=False)\n",
    "\n",
    "print(\"Lookalike Model Completed. Results saved to Lookalike.csv.\")"
   ]
  }
 ],
 "metadata": {
  "kernelspec": {
   "display_name": "Python 3 (ipykernel)",
   "language": "python",
   "name": "python3"
  },
  "language_info": {
   "codemirror_mode": {
    "name": "ipython",
    "version": 3
   },
   "file_extension": ".py",
   "mimetype": "text/x-python",
   "name": "python",
   "nbconvert_exporter": "python",
   "pygments_lexer": "ipython3",
   "version": "3.12.7"
  }
 },
 "nbformat": 4,
 "nbformat_minor": 5
}
